{
  "nbformat": 4,
  "nbformat_minor": 0,
  "metadata": {
    "colab": {
      "provenance": [],
      "authorship_tag": "ABX9TyN8jmEB7EpguTAbsrCTjYMd",
      "include_colab_link": true
    },
    "kernelspec": {
      "name": "python3",
      "display_name": "Python 3"
    },
    "language_info": {
      "name": "python"
    }
  },
  "cells": [
    {
      "cell_type": "markdown",
      "metadata": {
        "id": "view-in-github",
        "colab_type": "text"
      },
      "source": [
        "<a href=\"https://colab.research.google.com/github/MohitPolisetty/DS-Experiments-TY-CSE-AI-DS/blob/main/Experiment7DS.ipynb\" target=\"_parent\"><img src=\"https://colab.research.google.com/assets/colab-badge.svg\" alt=\"Open In Colab\"/></a>"
      ]
    },
    {
      "cell_type": "code",
      "execution_count": 1,
      "metadata": {
        "id": "Ak0BG-opHbCJ"
      },
      "outputs": [],
      "source": [
        "from sklearn.feature_selection import mutual_info_classif\n",
        "import pandas as pd\n",
        "from scipy.stats import entropy\n",
        "import numpy as np\n",
        "from sklearn.feature_selection import chi2"
      ]
    },
    {
      "cell_type": "markdown",
      "source": [
        "Information Gain without parent entropy"
      ],
      "metadata": {
        "id": "yX8KmtqDIGoZ"
      }
    },
    {
      "cell_type": "code",
      "source": [
        "df = pd.read_csv('mtcars.csv')\n",
        "\n",
        "\n",
        "X = df[['mpg', 'cyl']]\n",
        "y = df['hp']\n",
        "info_gain = mutual_info_classif(X, y)\n",
        "print(info_gain)"
      ],
      "metadata": {
        "colab": {
          "base_uri": "https://localhost:8080/"
        },
        "id": "_q0SqKTQIHO9",
        "outputId": "3dabbd21-530c-4910-c158-f1c024972810"
      },
      "execution_count": 2,
      "outputs": [
        {
          "output_type": "stream",
          "name": "stdout",
          "text": [
            "[1.24095308 1.77913892]\n"
          ]
        }
      ]
    },
    {
      "cell_type": "markdown",
      "source": [
        "Chi square"
      ],
      "metadata": {
        "id": "B24b8pLuIKkA"
      }
    },
    {
      "cell_type": "code",
      "source": [
        "chi_scores, p_values = chi2(X, y)\n",
        "print(chi_scores)\n",
        "print(p_values)"
      ],
      "metadata": {
        "colab": {
          "base_uri": "https://localhost:8080/"
        },
        "id": "k2oiC7EWILru",
        "outputId": "f06add46-3146-464c-c70f-0daaff6c1538"
      },
      "execution_count": 3,
      "outputs": [
        {
          "output_type": "stream",
          "name": "stdout",
          "text": [
            "[55.18447141 15.54882155]\n",
            "[6.64456551e-05 7.94441298e-01]\n"
          ]
        }
      ]
    },
    {
      "cell_type": "markdown",
      "source": [
        "ParentEntropy"
      ],
      "metadata": {
        "id": "Pugdma3GIOVX"
      }
    },
    {
      "cell_type": "code",
      "source": [
        "y = df['vs']\n",
        "values, counts = np.unique(y, return_counts=True)\n",
        "probabilities = counts / len(y)\n",
        "ent = entropy(probabilities, base=2)\n",
        "print(f\"Entropy: {ent*100}%\")"
      ],
      "metadata": {
        "colab": {
          "base_uri": "https://localhost:8080/"
        },
        "id": "V6_noUekIOM_",
        "outputId": "4dea6f63-c780-44f9-e3f3-9c19163de146"
      },
      "execution_count": 4,
      "outputs": [
        {
          "output_type": "stream",
          "name": "stdout",
          "text": [
            "Entropy: 98.86994082884975%\n"
          ]
        }
      ]
    },
    {
      "cell_type": "markdown",
      "source": [
        "Information Gain with the calulated entropy"
      ],
      "metadata": {
        "id": "1GZ6wUAUIR4n"
      }
    },
    {
      "cell_type": "code",
      "source": [
        "X = df[['mpg', 'cyl']].values\n",
        "y = df['vs'].values\n",
        "\n",
        "# Calculating parent Entropy (S)\n",
        "values, counts = np.unique(y, return_counts=True)\n",
        "parent_entropy = entropy(counts / len(y), base=2)\n",
        "print(f\"Parent Entropy: {parent_entropy*100}%\")"
      ],
      "metadata": {
        "colab": {
          "base_uri": "https://localhost:8080/"
        },
        "id": "Jy_2ofK6IRyF",
        "outputId": "49ec42dc-e0b1-496c-f8b5-9eda7e2b1da0"
      },
      "execution_count": 5,
      "outputs": [
        {
          "output_type": "stream",
          "name": "stdout",
          "text": [
            "Parent Entropy: 98.86994082884975%\n"
          ]
        }
      ]
    },
    {
      "cell_type": "code",
      "source": [
        "X_feature = X[:, 0]\n",
        "\n",
        "# 2. Split Data Based on Feature X\n",
        "median_value = np.median(X_feature)\n",
        "\n",
        "# Subsets for X_feature <= median and X_feature > median\n",
        "y_left = y[X_feature <= median_value]\n",
        "y_right = y[X_feature > median_value]\n",
        "\n",
        "# Calculate the entropy of subsets\n",
        "values_left, counts_left = np.unique(y_left, return_counts=True)\n",
        "entropy_left = entropy(counts_left / len(y_left), base=2)\n",
        "\n",
        "values_right, counts_right = np.unique(y_right, return_counts=True)\n",
        "entropy_right = entropy(counts_right / len(y_right), base=2)\n",
        "\n",
        "print(f\"Entropy Left (<= median): {entropy_left}\")\n",
        "print(f\"Entropy Right (> median): {entropy_right}\")\n",
        "\n",
        "# Subset sizes\n",
        "left_weight = len(y_left) / len(y)\n",
        "right_weight = len(y_right) / len(y)"
      ],
      "metadata": {
        "colab": {
          "base_uri": "https://localhost:8080/"
        },
        "id": "slj6tkhqIceB",
        "outputId": "f9a25cf5-98b0-40de-fb96-e68c8cf226af"
      },
      "execution_count": 6,
      "outputs": [
        {
          "output_type": "stream",
          "name": "stdout",
          "text": [
            "Entropy Left (<= median): 0.672294817075638\n",
            "Entropy Right (> median): 0.8366407419411673\n"
          ]
        }
      ]
    },
    {
      "cell_type": "code",
      "source": [
        "info_gain = parent_entropy - (left_weight * entropy_left + right_weight * entropy_right)\n",
        "print(f\"Information Gain: {info_gain}\")"
      ],
      "metadata": {
        "colab": {
          "base_uri": "https://localhost:8080/"
        },
        "id": "UDgWlq1vIlSP",
        "outputId": "d3399772-373b-41fd-f043-f10a03c83295"
      },
      "execution_count": 7,
      "outputs": [
        {
          "output_type": "stream",
          "name": "stdout",
          "text": [
            "Information Gain: 0.23936743893214252\n"
          ]
        }
      ]
    }
  ]
}