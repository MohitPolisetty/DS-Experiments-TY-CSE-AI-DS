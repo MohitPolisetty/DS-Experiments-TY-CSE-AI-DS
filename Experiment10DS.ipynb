{
  "nbformat": 4,
  "nbformat_minor": 0,
  "metadata": {
    "colab": {
      "provenance": [],
      "authorship_tag": "ABX9TyNLWb55Hjg23ngPFjmnpgWS",
      "include_colab_link": true
    },
    "kernelspec": {
      "name": "python3",
      "display_name": "Python 3"
    },
    "language_info": {
      "name": "python"
    }
  },
  "cells": [
    {
      "cell_type": "markdown",
      "metadata": {
        "id": "view-in-github",
        "colab_type": "text"
      },
      "source": [
        "<a href=\"https://colab.research.google.com/github/MohitPolisetty/DS-Experiments-TY-CSE-AI-DS/blob/main/Experiment10DS.ipynb\" target=\"_parent\"><img src=\"https://colab.research.google.com/assets/colab-badge.svg\" alt=\"Open In Colab\"/></a>"
      ]
    },
    {
      "cell_type": "code",
      "execution_count": 2,
      "metadata": {
        "colab": {
          "base_uri": "https://localhost:8080/"
        },
        "id": "3gP4n4NNL4Kk",
        "outputId": "02e5480e-c38b-4a31-d65e-0feb3ab312ea"
      },
      "outputs": [
        {
          "output_type": "stream",
          "name": "stdout",
          "text": [
            "Features chosen by Lasso regression:\n",
            "MedInc      0.710598\n",
            "HouseAge    0.106453\n",
            "Latitude   -0.011469\n",
            "dtype: float64\n",
            "R^2 score of the model using selected features: 0.48136113250290735\n"
          ]
        }
      ],
      "source": [
        "# Import libraries for data handling, modeling, and preprocessing\n",
        "import numpy as np\n",
        "import pandas as pd\n",
        "from sklearn.datasets import fetch_california_housing\n",
        "from sklearn.linear_model import Lasso\n",
        "from sklearn.model_selection import train_test_split\n",
        "from sklearn.preprocessing import StandardScaler\n",
        "\n",
        "# Fetch the California housing dataset for demonstration\n",
        "housing_data = fetch_california_housing()\n",
        "X = pd.DataFrame(housing_data.data, columns=housing_data.feature_names)  # Input features\n",
        "y = housing_data.target  # Target variable\n",
        "\n",
        "# Divide the dataset into training and testing portions\n",
        "X_train, X_test, y_train, y_test = train_test_split(\n",
        "    X, y, test_size=0.2, random_state=42\n",
        ")\n",
        "\n",
        "# Normalize the feature set to ensure consistent scaling\n",
        "scaler = StandardScaler()\n",
        "X_train_scaled = scaler.fit_transform(X_train)\n",
        "X_test_scaled = scaler.transform(X_test)\n",
        "\n",
        "# Use Lasso regression to perform feature selection and shrinkage\n",
        "lasso = Lasso(alpha=0.1)  # Controls the penalty strength\n",
        "lasso.fit(X_train_scaled, y_train)\n",
        "\n",
        "# Retrieve the importance of features as coefficients\n",
        "lasso_coefficients = pd.Series(lasso.coef_, index=X.columns)\n",
        "\n",
        "# Identify and display features contributing to the prediction\n",
        "selected_features = lasso_coefficients[lasso_coefficients != 0]\n",
        "print(f\"Features chosen by Lasso regression:\\n{selected_features}\")\n",
        "\n",
        "# Evaluate and output the model's R^2 score on the test data\n",
        "lasso_test_score = lasso.score(X_test_scaled, y_test)\n",
        "print(f\"R^2 score of the model using selected features: {lasso_test_score}\")\n"
      ]
    }
  ]
}