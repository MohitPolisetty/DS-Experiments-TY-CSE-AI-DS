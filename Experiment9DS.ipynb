{
  "nbformat": 4,
  "nbformat_minor": 0,
  "metadata": {
    "colab": {
      "provenance": [],
      "authorship_tag": "ABX9TyOk0K8bJ6f3PYmDK8KDr9Ke",
      "include_colab_link": true
    },
    "kernelspec": {
      "name": "python3",
      "display_name": "Python 3"
    },
    "language_info": {
      "name": "python"
    }
  },
  "cells": [
    {
      "cell_type": "markdown",
      "metadata": {
        "id": "view-in-github",
        "colab_type": "text"
      },
      "source": [
        "<a href=\"https://colab.research.google.com/github/MohitPolisetty/DS-Experiments-TY-CSE-AI-DS/blob/main/Experiment9DS.ipynb\" target=\"_parent\"><img src=\"https://colab.research.google.com/assets/colab-badge.svg\" alt=\"Open In Colab\"/></a>"
      ]
    },
    {
      "cell_type": "markdown",
      "source": [
        "Experiment9\n"
      ],
      "metadata": {
        "id": "HQvyVeGNLrxr"
      }
    },
    {
      "cell_type": "code",
      "execution_count": 1,
      "metadata": {
        "id": "1cmQ64RYLWvN"
      },
      "outputs": [],
      "source": [
        "import numpy as np\n",
        "import pandas as pd\n",
        "from sklearn.datasets import load_iris\n",
        "from sklearn.model_selection import train_test_split\n",
        "from sklearn.linear_model import LogisticRegression\n",
        "from mlxtend.feature_selection import SequentialFeatureSelector as SFS\n",
        "from sklearn.metrics import accuracy_score\n",
        "\n",
        "\n",
        "iris = load_iris()\n",
        "X = pd.DataFrame(iris.data, columns=iris.feature_names)\n",
        "y = iris.target\n",
        "X_train, X_test, y_train, y_test = train_test_split(X, y, test_size=0.2, random_state=42)\n",
        "clf = LogisticRegression(max_iter=200)\n",
        "\n",
        "\n",
        "sbs = SFS(clf,\n",
        "k_features=3,\n",
        "forward=False,\n",
        "floating=False,\n",
        "scoring='accuracy',\n",
        "cv=5)\n",
        "sbs = sbs.fit(X_train, y_train)"
      ]
    },
    {
      "cell_type": "code",
      "source": [
        "selected_features = sbs.k_feature_idx_\n",
        "print(f\"Selected Features: {selected_features}\")\n",
        "\n",
        "X_train_sbs = sbs.transform(X_train)\n",
        "X_test_sbs = sbs.transform(X_test)\n",
        "\n",
        "clf.fit(X_train_sbs, y_train)\n",
        "\n",
        "y_pred = clf.predict(X_test_sbs)\n",
        "accuracy = accuracy_score(y_test, y_pred)\n",
        "print(f\"Model accuracy with selected features: {accuracy*100}%\")"
      ],
      "metadata": {
        "colab": {
          "base_uri": "https://localhost:8080/"
        },
        "id": "Q6Oup4xSLpBp",
        "outputId": "d9d56ef3-ec70-498a-f11e-2fcccff790ed"
      },
      "execution_count": 2,
      "outputs": [
        {
          "output_type": "stream",
          "name": "stdout",
          "text": [
            "Selected Features: (0, 2, 3)\n",
            "Model accuracy with selected features: 100.0%\n"
          ]
        }
      ]
    }
  ]
}