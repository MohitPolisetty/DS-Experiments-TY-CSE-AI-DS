{
  "nbformat": 4,
  "nbformat_minor": 0,
  "metadata": {
    "colab": {
      "provenance": [],
      "authorship_tag": "ABX9TyODD15+tK6CtLnft0Hm+81G",
      "include_colab_link": true
    },
    "kernelspec": {
      "name": "python3",
      "display_name": "Python 3"
    },
    "language_info": {
      "name": "python"
    }
  },
  "cells": [
    {
      "cell_type": "markdown",
      "metadata": {
        "id": "view-in-github",
        "colab_type": "text"
      },
      "source": [
        "<a href=\"https://colab.research.google.com/github/MohitPolisetty/DS-Experiments-TY-CSE-AI-DS/blob/main/Experiment12DS.ipynb\" target=\"_parent\"><img src=\"https://colab.research.google.com/assets/colab-badge.svg\" alt=\"Open In Colab\"/></a>"
      ]
    },
    {
      "cell_type": "code",
      "execution_count": 1,
      "metadata": {
        "colab": {
          "base_uri": "https://localhost:8080/"
        },
        "id": "P5Du3OXZPLSw",
        "outputId": "05537af5-c85a-4f43-89a3-916a1f0846ea"
      },
      "outputs": [
        {
          "output_type": "stream",
          "name": "stdout",
          "text": [
            "Accuracy of Naive Bayes (Text Classification): 0.8206\n",
            "Accuracy of Random Forest (Wine Classification): 0.9815\n",
            "Accuracy of Decision Tree (Iris Classification): 0.9333\n",
            "Accuracy of SVM (Cancer Classification): 0.9415\n",
            "Accuracy of KNN (Iris Classification): 0.9556\n"
          ]
        },
        {
          "output_type": "stream",
          "name": "stderr",
          "text": [
            "/usr/local/lib/python3.10/dist-packages/xgboost/core.py:158: UserWarning: [20:24:35] WARNING: /workspace/src/learner.cc:740: \n",
            "Parameters: { \"use_label_encoder\" } are not used.\n",
            "\n",
            "  warnings.warn(smsg, UserWarning)\n",
            "/usr/local/lib/python3.10/dist-packages/sklearn/ensemble/_weight_boosting.py:527: FutureWarning: The SAMME.R algorithm (the default) is deprecated and will be removed in 1.6. Use the SAMME algorithm to circumvent this warning.\n",
            "  warnings.warn(\n"
          ]
        },
        {
          "output_type": "stream",
          "name": "stdout",
          "text": [
            "Accuracy of XGBoost (Wine Classification): 0.9444\n",
            "Accuracy of AdaBoost (Iris Classification): 0.9333\n"
          ]
        }
      ],
      "source": [
        "# Import required libraries for various machine learning models\n",
        "import numpy as np\n",
        "import pandas as pd\n",
        "from sklearn.datasets import load_iris, load_wine, load_breast_cancer, fetch_20newsgroups\n",
        "from sklearn.model_selection import train_test_split\n",
        "from sklearn.naive_bayes import MultinomialNB\n",
        "from sklearn.ensemble import RandomForestClassifier, AdaBoostClassifier\n",
        "from sklearn.svm import SVC\n",
        "from sklearn.neighbors import KNeighborsClassifier\n",
        "from sklearn.tree import DecisionTreeClassifier\n",
        "from xgboost import XGBClassifier\n",
        "from sklearn.feature_extraction.text import CountVectorizer\n",
        "\n",
        "# 1. Naive Bayes Classifier: Working with Text Data\n",
        "# Load a text-based dataset for classification tasks\n",
        "news_data = fetch_20newsgroups(subset='train')\n",
        "text_samples, labels = news_data.data, news_data.target\n",
        "\n",
        "# Convert text data to numerical format using Count Vectorization\n",
        "text_vectorizer = CountVectorizer()\n",
        "text_features = text_vectorizer.fit_transform(text_samples)\n",
        "\n",
        "# Split data into training and testing sets\n",
        "text_train, text_test, label_train, label_test = train_test_split(\n",
        "    text_features, labels, test_size=0.3\n",
        ")\n",
        "\n",
        "# Train a Naive Bayes model\n",
        "naive_bayes = MultinomialNB()\n",
        "naive_bayes.fit(text_train, label_train)\n",
        "\n",
        "# Evaluate the model's performance\n",
        "nb_accuracy = naive_bayes.score(text_test, label_test)\n",
        "print(f\"Accuracy of Naive Bayes (Text Classification): {nb_accuracy:.4f}\")\n",
        "\n",
        "# 2. Random Forest Classifier: Wine Dataset\n",
        "# Load wine dataset for multi-class classification\n",
        "wine_data = load_wine()\n",
        "wine_features, wine_labels = wine_data.data, wine_data.target\n",
        "\n",
        "# Split data into training and testing sets\n",
        "wine_train, wine_test, wine_label_train, wine_label_test = train_test_split(\n",
        "    wine_features, wine_labels, test_size=0.3\n",
        ")\n",
        "\n",
        "# Train a Random Forest model\n",
        "random_forest = RandomForestClassifier(n_estimators=100, random_state=42)\n",
        "random_forest.fit(wine_train, wine_label_train)\n",
        "\n",
        "# Evaluate the model's performance\n",
        "rf_accuracy = random_forest.score(wine_test, wine_label_test)\n",
        "print(f\"Accuracy of Random Forest (Wine Classification): {rf_accuracy:.4f}\")\n",
        "\n",
        "# 3. Decision Tree Classifier: Iris Dataset\n",
        "# Load Iris dataset for classification\n",
        "iris_data = load_iris()\n",
        "iris_features, iris_labels = iris_data.data, iris_data.target\n",
        "\n",
        "# Split data into training and testing sets\n",
        "iris_train, iris_test, iris_label_train, iris_label_test = train_test_split(\n",
        "    iris_features, iris_labels, test_size=0.3\n",
        ")\n",
        "\n",
        "# Train a Decision Tree model\n",
        "decision_tree = DecisionTreeClassifier()\n",
        "decision_tree.fit(iris_train, iris_label_train)\n",
        "\n",
        "# Evaluate the model's performance\n",
        "dt_accuracy = decision_tree.score(iris_test, iris_label_test)\n",
        "print(f\"Accuracy of Decision Tree (Iris Classification): {dt_accuracy:.4f}\")\n",
        "\n",
        "# 4. Support Vector Machine: Breast Cancer Dataset\n",
        "# Load breast cancer dataset for binary classification\n",
        "cancer_data = load_breast_cancer()\n",
        "cancer_features, cancer_labels = cancer_data.data, cancer_data.target\n",
        "\n",
        "# Split data into training and testing sets\n",
        "cancer_train, cancer_test, cancer_label_train, cancer_label_test = train_test_split(\n",
        "    cancer_features, cancer_labels, test_size=0.3\n",
        ")\n",
        "\n",
        "# Train an SVM model with a linear kernel\n",
        "svm_model = SVC(kernel='linear')\n",
        "svm_model.fit(cancer_train, cancer_label_train)\n",
        "\n",
        "# Evaluate the model's performance\n",
        "svm_accuracy = svm_model.score(cancer_test, cancer_label_test)\n",
        "print(f\"Accuracy of SVM (Cancer Classification): {svm_accuracy:.4f}\")\n",
        "\n",
        "# 5. K-Nearest Neighbors: Iris Dataset\n",
        "# Reuse the Iris dataset for classification\n",
        "knn_model = KNeighborsClassifier(n_neighbors=5)\n",
        "knn_model.fit(iris_train, iris_label_train)\n",
        "\n",
        "# Evaluate the KNN model\n",
        "knn_accuracy = knn_model.score(iris_test, iris_label_test)\n",
        "print(f\"Accuracy of KNN (Iris Classification): {knn_accuracy:.4f}\")\n",
        "\n",
        "# 6. XGBoost Classifier: Wine Dataset\n",
        "# Reuse the Wine dataset for classification\n",
        "xgb_model = XGBClassifier(use_label_encoder=False, eval_metric='mlogloss')\n",
        "xgb_model.fit(wine_train, wine_label_train)\n",
        "\n",
        "# Evaluate the XGBoost model\n",
        "xgb_accuracy = xgb_model.score(wine_test, wine_label_test)\n",
        "print(f\"Accuracy of XGBoost (Wine Classification): {xgb_accuracy:.4f}\")\n",
        "\n",
        "# 7. AdaBoost Classifier: Iris Dataset\n",
        "# Train an AdaBoost classifier using a weak learner (Decision Tree)\n",
        "ada_boost = AdaBoostClassifier(DecisionTreeClassifier(max_depth=1), n_estimators=50)\n",
        "ada_boost.fit(iris_train, iris_label_train)\n",
        "\n",
        "# Evaluate the AdaBoost model\n",
        "ada_accuracy = ada_boost.score(iris_test, iris_label_test)\n",
        "print(f\"Accuracy of AdaBoost (Iris Classification): {ada_accuracy:.4f}\")\n"
      ]
    }
  ]
}